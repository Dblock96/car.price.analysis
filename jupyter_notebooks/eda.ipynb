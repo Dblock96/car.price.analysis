{
 "cells": [
  {
   "cell_type": "markdown",
   "id": "b9237b5b",
   "metadata": {},
   "source": [
    "# EDA- Car Price Analysis \n",
    "\n",
    "## Overview\n",
    "This notebook explores relationships in the cleaned car price dataset to surface key pricing drivers and patterns.\n",
    "\n",
    "**Charts included:**\n",
    "- **Plotly (interactive):** Price vs Engine Size\n",
    "- **Seaborn:** Violin plot of Price by Engine Size Band (Small/Medium/Large)\n",
    "- **Matplotlib:** Top 10 Car Makes by Average Price\n",
    "\n",
    "We assume the dataset was cleaned during ETL and saved as  `../data/car_price_clean.csv`."
   ]
  },
  {
   "cell_type": "markdown",
   "id": "26832e83",
   "metadata": {},
   "source": [
    "## Inputs\n",
    "\n",
    "- **Cleaned dataset**: `data/car_price_clean.csv`\n",
    "  - Standardised columns and corrected brand names.\n",
    "  - Engineered features (e.g., `price_per_cc`, `power_to_weight`, `mpg_ratio`).\n",
    "  - One-hot encoded categorical variables.\n",
    "- **Python libraries**: `pandas`, `numpy`, `matplotlib`, `seaborn`, `plotly`."
   ]
  },
  {
   "cell_type": "markdown",
   "id": "35414671",
   "metadata": {},
   "source": [
    "## Outputs\n",
    "\n",
    "- 1 interactive Plotly chart.\n",
    "- 1 Seaborn violin plot.\n",
    "- 1 Matplotlib bar chart.\n",
    "- Observations and insights for inclusion in the README."
   ]
  },
  {
   "cell_type": "markdown",
   "id": "c82ad81b",
   "metadata": {},
   "source": [
    "## Import Libraries\n",
    "\n",
    "We will use the following libraries for data analysis and visualisation:\n",
    "\n",
    "- **pandas**: Data manipulation and analysis\n",
    "- **numpy**: Numerical operations\n",
    "- **matplotlib**: Basic plotting\n",
    "- **seaborn**: Statistical visualisation\n",
    "- **plotly**: Interactive visualisation"
   ]
  },
  {
   "cell_type": "code",
   "execution_count": null,
   "id": "6630db51",
   "metadata": {},
   "outputs": [],
   "source": [
    "import pandas as pd\n",
    "import numpy as np\n",
    "import matplotlib.pyplot as plt\n",
    "import seaborn as sns\n",
    "import plotly.express as px\n",
    "\n",
    "# Optional: set plot styles for consistency\n",
    "sns.set_theme(style=\"whitegrid\")\n",
    "plt.rcParams[\"figure.figsize\"]"
   ]
  },
  {
   "cell_type": "markdown",
   "id": "12b73bed",
   "metadata": {},
   "source": [
    " ## 1. Load Cleaned Data"
   ]
  },
  {
   "cell_type": "markdown",
   "id": "bbd87e8f",
   "metadata": {},
   "source": [
    "We will load the cleaned dataset `car_price_clean.csv` generated from the ETL process.  \n",
    "This file contains:\n",
    "- Standardised column names.\n",
    "- Corrected brand names.\n",
    "- Engineered features (e.g., `price_per_cc`, `power_to_weight`, `mpg_ratio`).\n",
    "- One-hot encoded categorical variables.\n",
    "\n",
    "The dataset is stored in the `data/` folder."
   ]
  },
  {
   "cell_type": "code",
   "execution_count": null,
   "id": "a5597fdf",
   "metadata": {},
   "outputs": [],
   "source": [
    "import pandas as pd\n",
    "from pathlib import Path\n",
    "\n",
    "# Path to cleaned dataset\n",
    "data_file = Path(\"../data/car_price_clean.csv\")\n",
    "\n",
    "# Load the cleaned dataset\n",
    "try:\n",
    "    df = pd.read_csv(data_file)\n",
    "    print(f\"Cleaned dataset loaded successfully: {df.shape[0]} rows, {df.shape[1]} columns\")\n",
    "except FileNotFoundError:\n",
    "    raise FileNotFoundError(f\"Cleaned dataset not found at {data_file}. Please run the ETL notebook first.\")\n",
    "\n",
    "# Preview the first few rows\n",
    "df.head()"
   ]
  },
  {
   "cell_type": "markdown",
   "id": "a41fa34e",
   "metadata": {},
   "source": [
    "# 2. Quick Data Checks\n",
    "\n",
    "We’ll sanity-check basic structure and key statistics before plotting."
   ]
  },
  {
   "cell_type": "code",
   "execution_count": null,
   "id": "a4454da1",
   "metadata": {},
   "outputs": [],
   "source": [
    "# Basic info and quick stats\n",
    "display(df.head())\n",
    "print(df.shape)\n",
    "df.describe(include='all').T.head(20)"
   ]
  },
  {
   "cell_type": "markdown",
   "id": "7e18fa27",
   "metadata": {},
   "source": [
    "## 3. Plotly: Price vs Engine Size (Interactive)\n",
    "\n",
    "Interactive scatter to see how price changes with engine size and to spot potential outliers.  \n",
    "Hover to reveal extra details when available (e.g., horsepower, mpg)."
   ]
  },
  {
   "cell_type": "code",
   "execution_count": null,
   "id": "e192c7ec",
   "metadata": {},
   "outputs": [],
   "source": [
    "import plotly.express as px\n",
    "import plotly.graph_objects as go\n",
    "from pathlib import Path\n",
    "\n",
    "# Ensure required columns exist\n",
    "required_cols = [\"enginesize\", \"price\"]\n",
    "for col in required_cols:\n",
    "    if col not in df.columns:\n",
    "        raise ValueError(f\"Column '{col}' not found in DataFrame.\")\n",
    "\n",
    "# Create a simple scatter plot using matplotlib as backup if Plotly fails\n",
    "hover_cols = [c for c in [\"model\", \"horsepower\", \"citympg\", \"highwaympg\"] if c in df.columns]\n",
    "\n",
    "# Create the Plotly figure\n",
    "fig = px.scatter(\n",
    "    df,\n",
    "    x=\"enginesize\",\n",
    "    y=\"price\",\n",
    "    hover_data=hover_cols,\n",
    "    title=\"Price vs Engine Size (Interactive)\"\n",
    ")\n",
    "fig.update_traces(marker=dict(size=8, opacity=0.7))\n",
    "fig.update_layout(xaxis_title=\"Engine Size (cc)\", yaxis_title=\"Price (USD)\")\n",
    "\n",
    "# Create images directory\n",
    "Path(\"../images\").mkdir(exist_ok=True)\n",
    "\n",
    "# Save as HTML file instead of showing (avoids renderer issues)\n",
    "fig.write_html(\"../images/price_vs_enginesize.html\")\n",
    "print(\"Interactive chart saved to ../images/price_vs_enginesize.html\")\n",
    "\n",
    "# Also create a simple matplotlib version\n",
    "plt.figure(figsize=(10, 6))\n",
    "plt.scatter(df['enginesize'], df['price'], alpha=0.7)\n",
    "plt.xlabel('Engine Size (cc)')\n",
    "plt.ylabel('Price (USD)')\n",
    "plt.title('Price vs Engine Size')\n",
    "plt.grid(True, alpha=0.3)\n",
    "plt.savefig('../images/price_vs_enginesize_static.png', dpi=300, bbox_inches='tight')\n",
    "plt.show()\n",
    "print(\"Static chart saved to ../images/price_vs_enginesize_static.png\")"
   ]
  },
  {
   "cell_type": "markdown",
   "id": "71ec83f8",
   "metadata": {},
   "source": [
    "## 4. Seaborn: Price Distribution by Engine Size Band (Violin)\n",
    "\n",
    "The original categorical columns may have been one-hot encoded during ETL.  \n",
    "To keep a robust categorical comparison, we create **engine size bands**:\n",
    "\n",
    "- **Small:** bottom 33%  \n",
    "- **Medium:** middle 33%  \n",
    "- **Large:** top 33%\n",
    "\n",
    "This shows how price distributions vary across engine size groups."
   ]
  },
  {
   "cell_type": "code",
   "execution_count": null,
   "id": "d7e3687c",
   "metadata": {},
   "outputs": [],
   "source": [
    "import numpy as np\n",
    "import seaborn as sns\n",
    "import matplotlib.pyplot as plt\n",
    "\n",
    "# Create engine size bands (tertiles)\n",
    "q = df[\"enginesize\"].quantile([0.33, 0.66])\n",
    "def band_engine_size(v):\n",
    "    if v <= q.iloc[0]:\n",
    "        return \"Small\"\n",
    "    elif v <= q.iloc[1]:\n",
    "        return \"Medium\"\n",
    "    else:\n",
    "        return \"Large\"\n",
    "\n",
    "df[\"_engine_band\"] = df[\"enginesize\"].apply(band_engine_size)\n",
    "\n",
    "plt.figure(figsize=(10,6))\n",
    "sns.violinplot(\n",
    "    data=df,\n",
    "    x=\"_engine_band\",\n",
    "    y=\"price\",\n",
    "    inner=\"quartile\"\n",
    ")\n",
    "plt.title(\"Price Distribution by Engine Size Band\")\n",
    "plt.xlabel(\"Engine Size Band\")\n",
    "plt.ylabel(\"Price (USD)\")\n",
    "plt.tight_layout()\n",
    "plt.show()\n",
    "\n",
    "# (Optional) clean up helper column if you prefer\n",
    "# df.drop(columns=[\"_engine_band\"], inplace=True)"
   ]
  },
  {
   "cell_type": "markdown",
   "id": "3e31d769",
   "metadata": {},
   "source": [
    "## 5. Matplotlib: Top 10 Makes by Average Price\n",
    "\n",
    "If the ETL kept a `make` column, we’ll use it directly.  \n",
    "If `make` was one-hot encoded (e.g., `make_audi`, `make_bmw`, …), we **reconstruct** the make label by taking the\n",
    "one-hot column with the highest value per row. Rows that belong to the dropped baseline category (due to `drop_first=True`)\n",
    "are labelled **\"other/ baseline\"**."
   ]
  },
  {
   "cell_type": "code",
   "execution_count": null,
   "id": "43202749",
   "metadata": {},
   "outputs": [],
   "source": [
    "import re\n",
    "import numpy as np\n",
    "import matplotlib.pyplot as plt\n",
    "\n",
    "def reconstruct_make_from_dummies(df_in, prefix=\"make_\"):\n",
    "    \"\"\"Return a Series with make labels reconstructed from one-hot columns.\n",
    "       Baseline (all zeros) becomes 'other/ baseline'.\"\"\"\n",
    "    make_cols = [c for c in df_in.columns if c.startswith(prefix)]\n",
    "    if not make_cols:\n",
    "        return None  # Nothing to reconstruct\n",
    "    # Argmax across available make_* columns\n",
    "    make_matrix = df_in[make_cols].to_numpy(dtype=float)\n",
    "    idx = make_matrix.argmax(axis=1)\n",
    "    # When all zeros (baseline), mark as None\n",
    "    all_zero = (make_matrix.sum(axis=1) == 0)\n",
    "    labels = np.array([re.sub(f\"^{prefix}\", \"\", make_cols[i]) for i in idx], dtype=object)\n",
    "    labels[all_zero] = \"other/ baseline\"\n",
    "    return pd.Series(labels, index=df_in.index, name=\"make_reconstructed\")\n",
    "\n",
    "# Choose a make label to use\n",
    "if \"make\" in df.columns:\n",
    "    make_label = df[\"make\"]\n",
    "else:\n",
    "    rec = reconstruct_make_from_dummies(df, prefix=\"make_\")\n",
    "    if rec is None:\n",
    "        # Fallback: no make info available — use a numeric grouping instead\n",
    "        make_label = pd.Series([\"unknown\"]*len(df), index=df.index, name=\"make_reconstructed\")\n",
    "    else:\n",
    "        make_label = rec\n",
    "\n",
    "# Compute average price by make and plot top 10\n",
    "avg_price_by_make = (\n",
    "    pd.DataFrame({\"make_label\": make_label, \"price\": df[\"price\"]})\n",
    "    .groupby(\"make_label\")[\"price\"]\n",
    "    .mean()\n",
    "    .sort_values(ascending=False)\n",
    "    .head(10)\n",
    ")\n",
    "\n",
    "plt.figure(figsize=(10,6))\n",
    "avg_price_by_make.plot(kind=\"bar\", edgecolor=\"black\")\n",
    "plt.title(\"Top 10 Makes by Average Price\")\n",
    "plt.xlabel(\"Make\")\n",
    "plt.ylabel(\"Average Price (USD)\")\n",
    "plt.xticks(rotation=45, ha=\"right\")\n",
    "plt.tight_layout()\n",
    "plt.show()"
   ]
  },
  {
   "cell_type": "markdown",
   "id": "2898659a",
   "metadata": {},
   "source": [
    "## EDA Notes & Next Steps\n",
    "\n",
    "**What we saw**\n",
    "- Price generally increases with engine size, but there are notable high-price points at moderate engine sizes (likely brand/trim effects).\n",
    "- Price distributions differ across engine size bands; “Large” engines unsurprisingly skew higher.\n",
    "- The highest average prices cluster among a small set of makes (or the reconstructed baseline), indicating brand effects.\n",
    "\n",
    "**What to do next**\n",
    "- Explore relationships with engineered features (`price_per_cc`, `power_to_weight`, `mpg_ratio`).\n",
    "- Examine correlations and multicollinearity among numeric variables.\n",
    "- Add interactive breakdowns (Plotly) by reconstructed make or by other meaningful groupings.\n",
    "- Feed insights into the README and outline potential features for modelling."
   ]
  }
 ],
 "metadata": {
  "kernelspec": {
   "display_name": "venv",
   "language": "python",
   "name": "python3"
  },
  "language_info": {
   "codemirror_mode": {
    "name": "ipython",
    "version": 3
   },
   "file_extension": ".py",
   "mimetype": "text/x-python",
   "name": "python",
   "nbconvert_exporter": "python",
   "pygments_lexer": "ipython3",
   "version": "3.12.8"
  }
 },
 "nbformat": 4,
 "nbformat_minor": 5
}
